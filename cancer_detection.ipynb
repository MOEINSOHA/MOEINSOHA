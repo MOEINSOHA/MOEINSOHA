{
  "cells": [
    {
      "cell_type": "markdown",
      "metadata": {
        "id": "view-in-github",
        "colab_type": "text"
      },
      "source": [
        "<a href=\"https://colab.research.google.com/github/MOEINSOHA/MOEINSOHA/blob/main/cancer_detection.ipynb\" target=\"_parent\"><img src=\"https://colab.research.google.com/assets/colab-badge.svg\" alt=\"Open In Colab\"/></a>"
      ]
    },
    {
      "cell_type": "code",
      "source": [
        "!pip install kaggle"
      ],
      "metadata": {
        "id": "juLV3KHvv1Fn",
        "collapsed": true
      },
      "execution_count": null,
      "outputs": []
    },
    {
      "cell_type": "code",
      "source": [
        "import os\n",
        "import shutil\n",
        "# this code for remove some files\n",
        "shutil.rmtree('/content/train/Colon_Benign/.ipynb_checkpoints')"
      ],
      "metadata": {
        "id": "mZYCclMiFSxX"
      },
      "execution_count": 11,
      "outputs": []
    },
    {
      "cell_type": "code",
      "source": [
        "!kaggle datasets download -d johncapocyan/cellnet-beta-version"
      ],
      "metadata": {
        "id": "m1cTIvEm9Ct1",
        "outputId": "86df8df0-5846-4128-ce74-b9e92e4bc30e",
        "colab": {
          "base_uri": "https://localhost:8080/"
        }
      },
      "execution_count": 11,
      "outputs": [
        {
          "output_type": "stream",
          "name": "stdout",
          "text": [
            "Dataset URL: https://www.kaggle.com/datasets/johncapocyan/cellnet-beta-version\n",
            "License(s): MIT\n",
            "Downloading cellnet-beta-version.zip to /content\n",
            "... resuming from 2513436672 bytes (7875837445 bytes left) ...\n",
            "100% 9.66G/9.68G [01:31<00:00, 138MB/s]\n",
            "100% 9.68G/9.68G [01:31<00:00, 85.6MB/s]\n"
          ]
        }
      ]
    },
    {
      "cell_type": "code",
      "source": [
        "!unzip /content/cellnet-beta-version.zip"
      ],
      "metadata": {
        "id": "BEhbt6JCF13G",
        "collapsed": true
      },
      "execution_count": null,
      "outputs": []
    },
    {
      "cell_type": "code",
      "source": [
        "import os\n",
        "import shutil\n",
        "images_path = '/content/CellNet/CellNet/Colon_Benign'\n",
        "# name of images\n",
        "all_items = os.listdir(images_path)\n",
        "train_path = '/content/train/Colon_Benign'\n",
        "# transfer image to file\n",
        "for item in all_items:\n",
        "    item_path = os.path.join(images_path, item)\n",
        "    # searching for this the file is exsisted\n",
        "    if os.path.isfile(item_path):\n",
        "        shutil.move(item_path, train_path)\n",
        "print(f\"the files transferd\")"
      ],
      "metadata": {
        "id": "ixuNtpVcNlsN",
        "outputId": "c7655397-ebd7-47ce-aeae-8821be89be0d",
        "colab": {
          "base_uri": "https://localhost:8080/"
        }
      },
      "execution_count": 15,
      "outputs": [
        {
          "output_type": "stream",
          "name": "stdout",
          "text": [
            "the files transferd\n"
          ]
        }
      ]
    },
    {
      "cell_type": "code",
      "source": [
        "images_path = '/content/CellNet/CellNet/Colon_Adenocarcinoma'\n",
        "all_items = os.listdir(images_path)\n",
        "train_path = '/content/train/Colon_Adenocarcinoma'\n",
        "for item in all_items:\n",
        "    item_path = os.path.join(images_path, item)\n",
        "    if os.path.isfile(item_path):\n",
        "        shutil.move(item_path, train_path)\n",
        "print(f\"the files transferd\")"
      ],
      "metadata": {
        "id": "dp4camPKQysB",
        "outputId": "8acfb39e-edf4-446c-b58a-7cd753e66245",
        "colab": {
          "base_uri": "https://localhost:8080/"
        }
      },
      "execution_count": 16,
      "outputs": [
        {
          "output_type": "stream",
          "name": "stdout",
          "text": [
            "the files transferd\n"
          ]
        }
      ]
    },
    {
      "cell_type": "code",
      "source": [
        "import os\n",
        "import random\n",
        "import shutil\n",
        "\n",
        "\n",
        "folder1 = \"/content/train/Colon_Benign\"\n",
        "folder2 = \"/content/train/Colon_Adenocarcinoma\"\n",
        "\n",
        "\n",
        "valid_folder1 = \"/content/valid/Colon_Benign\"\n",
        "valid_folder2 = \"/content/valid/Colon_Adenocarcinoma\"\n",
        "test_folder = \"/content/test\"\n",
        "\n",
        "os.makedirs(valid_folder1, exist_ok=True)\n",
        "os.makedirs(valid_folder2, exist_ok=True)\n",
        "os.makedirs(test_folder, exist_ok=True)\n",
        "\n",
        "def move_random_files(source_folder, destination_folder, percent=10):\n",
        "\n",
        "    files = os.listdir(source_folder)\n",
        "    random.shuffle(files)\n",
        "\n",
        "\n",
        "    num_files_to_move = int(len(files) * percent / 100)\n",
        "\n",
        "\n",
        "    for file in files[:num_files_to_move]:\n",
        "        src_path = os.path.join(source_folder, file)\n",
        "        dest_path = os.path.join(destination_folder, file)\n",
        "\n",
        "\n",
        "        shutil.move(src_path, dest_path)\n",
        "        print(f\": {file} \")\n",
        "\n",
        "\n",
        "move_random_files(folder1, valid_folder1, percent=20)\n",
        "move_random_files(folder2, valid_folder2, percent=20)\n",
        "move_random_files(folder1, test_folder, percent=5)\n",
        "move_random_files(folder2, test_folder, percent=5)\n",
        "print('ok')\n"
      ],
      "metadata": {
        "id": "GNbdjeZJWUL4",
        "collapsed": true
      },
      "execution_count": null,
      "outputs": []
    },
    {
      "cell_type": "code",
      "source": [
        "fl_path = '/content/train/Colon_Adenocarcinoma'\n",
        "contents = os.listdir(fl_path)\n",
        "count = len(contents)\n",
        "print(count)"
      ],
      "metadata": {
        "id": "bAvfexBvYMHK",
        "outputId": "9f972f4b-ff16-4882-c136-36878eca6ae0",
        "colab": {
          "base_uri": "https://localhost:8080/"
        }
      },
      "execution_count": 18,
      "outputs": [
        {
          "output_type": "stream",
          "name": "stdout",
          "text": [
            "3800\n"
          ]
        }
      ]
    },
    {
      "cell_type": "code",
      "source": [
        "import os\n",
        "# Define paths for training and testing datasets\n",
        "train_dir = '/content/train'\n",
        "valid_dir = '/content/valid'\n",
        "\n",
        "# List the classes in the training directory\n",
        "train_classes = os.listdir(train_dir)\n",
        "print(f\"Training classes: {train_classes}\")\n",
        "\n",
        "# Count the number of images in each class folder\n",
        "for class_name in train_classes:\n",
        "    class_path = os.path.join(train_dir, class_name)\n",
        "    num_images = len(os.listdir(class_path))\n",
        "    print(f\"Number of images in {class_name}: {num_images}\")\n"
      ],
      "metadata": {
        "colab": {
          "base_uri": "https://localhost:8080/"
        },
        "id": "iiZZdyl2up_w",
        "outputId": "4ec9d735-114d-496a-9ff2-678620093dfe"
      },
      "execution_count": 2,
      "outputs": [
        {
          "output_type": "stream",
          "name": "stdout",
          "text": [
            "Training classes: ['Colon_Benign', 'Colon_Adenocarcinoma']\n",
            "Number of images in Colon_Benign: 3799\n",
            "Number of images in Colon_Adenocarcinoma: 3800\n"
          ]
        }
      ]
    },
    {
      "cell_type": "code",
      "source": [
        "from tensorflow.keras.preprocessing.image import ImageDataGenerator\n",
        "\n",
        "# Define image size and batch size\n",
        "image_size = (224, 224)  # Image size expected by the model\n",
        "batch_size = 32          # Number of images to process at once\n",
        "\n",
        "# Create an ImageDataGenerator for training and validing\n",
        "train_datagen = ImageDataGenerator(rescale=1.0/255)  # Only normalize pixel values\n",
        "valid_datagen = ImageDataGenerator(rescale=1.0/255)   # Only normalize for valid data\n",
        "\n",
        "# Load training data\n",
        "train_generator = train_datagen.flow_from_directory(\n",
        "    train_dir,\n",
        "    target_size=image_size,\n",
        "    batch_size=batch_size,\n",
        "    class_mode='categorical'  # Use (Colon_Adenocarcinoma and Colon_Benign)\n",
        ")\n",
        "\n",
        "# Load valid data\n",
        "valid_generator = valid_datagen.flow_from_directory(\n",
        "    valid_dir,\n",
        "    target_size=image_size,\n",
        "    batch_size=batch_size,\n",
        "    class_mode='categorical'  #  two classes\n",
        ")\n"
      ],
      "metadata": {
        "colab": {
          "base_uri": "https://localhost:8080/"
        },
        "id": "lgmw0ia7vtiF",
        "outputId": "d3dd5eaf-207c-4a09-8ac9-fbe6fec3543c"
      },
      "execution_count": 3,
      "outputs": [
        {
          "output_type": "stream",
          "name": "stdout",
          "text": [
            "Found 7599 images belonging to 2 classes.\n",
            "Found 2000 images belonging to 2 classes.\n"
          ]
        }
      ]
    },
    {
      "cell_type": "code",
      "source": [
        "print(train_generator.class_indices)  # Check the class indices for training data\n",
        "print(valid_generator.class_indices)  # Check the class indices for validation data\n"
      ],
      "metadata": {
        "colab": {
          "base_uri": "https://localhost:8080/"
        },
        "id": "jbeZAJWb5S-c",
        "outputId": "d322caee-2457-45fe-9f6f-89c22375c1f3"
      },
      "execution_count": 4,
      "outputs": [
        {
          "output_type": "stream",
          "name": "stdout",
          "text": [
            "{'Colon_Adenocarcinoma': 0, 'Colon_Benign': 1}\n",
            "{'Colon_Adenocarcinoma': 0, 'Colon_Benign': 1}\n"
          ]
        }
      ]
    },
    {
      "cell_type": "code",
      "source": [
        "import tensorflow as tf\n",
        "from tensorflow.keras.applications import ResNet50\n",
        "\n",
        "# Create the ResNet model\n",
        "base_model = ResNet50(weights='imagenet', include_top=False, input_shape=(224, 224, 3))\n",
        "\n",
        "# Add global average pooling layer\n",
        "x = tf.keras.layers.GlobalAveragePooling2D()(base_model.output)\n",
        "\n",
        "# Add a fully connected layer for 2 classes\n",
        "outputs = tf.keras.layers.Dense(2, activation='softmax')(x)\n",
        "\n",
        "# Create the final model\n",
        "model = tf.keras.Model(inputs=base_model.input, outputs=outputs)\n",
        "\n",
        "# Compile the model with categorical crossentropy for two classes\n",
        "model.compile(optimizer='adam', loss='categorical_crossentropy', metrics=['accuracy'])\n"
      ],
      "metadata": {
        "id": "k9DP-5gJ5k2r"
      },
      "execution_count": 5,
      "outputs": []
    },
    {
      "cell_type": "code",
      "source": [
        "history = model.fit(\n",
        "    train_generator,\n",
        "    validation_data=valid_generator,\n",
        "    epochs=1,\n",
        "    steps_per_epoch=len(train_generator),\n",
        "    validation_steps=len(valid_generator)\n",
        ")\n"
      ],
      "metadata": {
        "colab": {
          "base_uri": "https://localhost:8080/"
        },
        "id": "v3lhzc7q5yNG",
        "outputId": "90d8ddd2-5791-4fc8-8946-f024ca935ed5"
      },
      "execution_count": null,
      "outputs": [
        {
          "metadata": {
            "tags": null
          },
          "name": "stderr",
          "output_type": "stream",
          "text": [
            "/usr/local/lib/python3.10/dist-packages/keras/src/trainers/data_adapters/py_dataset_adapter.py:121: UserWarning: Your `PyDataset` class should call `super().__init__(**kwargs)` in its constructor. `**kwargs` can include `workers`, `use_multiprocessing`, `max_queue_size`. Do not pass these arguments to `fit()`, as they will be ignored.\n",
            "  self._warn_if_super_not_called()\n"
          ]
        },
        {
          "output_type": "stream",
          "name": "stdout",
          "text": [
            "\u001b[1m 91/238\u001b[0m \u001b[32m━━━━━━━\u001b[0m\u001b[37m━━━━━━━━━━━━━\u001b[0m \u001b[1m57:27\u001b[0m 23s/step - accuracy: 0.9480 - loss: 0.1652"
          ]
        }
      ]
    }
  ],
  "metadata": {
    "colab": {
      "provenance": [],
      "gpuType": "V28",
      "include_colab_link": true
    },
    "kernelspec": {
      "display_name": "Python 3",
      "name": "python3"
    },
    "accelerator": "TPU"
  },
  "nbformat": 4,
  "nbformat_minor": 0
}